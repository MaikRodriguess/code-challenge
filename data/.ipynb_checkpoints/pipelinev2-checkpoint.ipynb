{
 "cells": [
  {
   "cell_type": "code",
   "execution_count": null,
   "id": "1098fd38",
   "metadata": {},
   "outputs": [],
   "source": [
    "!pip install os"
   ]
  },
  {
   "cell_type": "markdown",
   "id": "68015ca1",
   "metadata": {},
   "source": [
    "# Etapa 1: Extração de dados\n"
   ]
  },
  {
   "cell_type": "code",
   "execution_count": 12,
   "id": "5cc7df81",
   "metadata": {},
   "outputs": [
    {
     "name": "stderr",
     "output_type": "stream",
     "text": [
      "C:\\Users\\Maik\\anaconda3\\lib\\site-packages\\pandas\\io\\sql.py:762: UserWarning: pandas only support SQLAlchemy connectable(engine/connection) ordatabase string URI or sqlite3 DBAPI2 connectionother DBAPI2 objects are not tested, please consider using SQLAlchemy\n",
      "  warnings.warn(\n",
      "C:\\Users\\Maik\\anaconda3\\lib\\site-packages\\pandas\\io\\sql.py:762: UserWarning: pandas only support SQLAlchemy connectable(engine/connection) ordatabase string URI or sqlite3 DBAPI2 connectionother DBAPI2 objects are not tested, please consider using SQLAlchemy\n",
      "  warnings.warn(\n",
      "C:\\Users\\Maik\\anaconda3\\lib\\site-packages\\pandas\\io\\sql.py:762: UserWarning: pandas only support SQLAlchemy connectable(engine/connection) ordatabase string URI or sqlite3 DBAPI2 connectionother DBAPI2 objects are not tested, please consider using SQLAlchemy\n",
      "  warnings.warn(\n",
      "C:\\Users\\Maik\\anaconda3\\lib\\site-packages\\pandas\\io\\sql.py:762: UserWarning: pandas only support SQLAlchemy connectable(engine/connection) ordatabase string URI or sqlite3 DBAPI2 connectionother DBAPI2 objects are not tested, please consider using SQLAlchemy\n",
      "  warnings.warn(\n",
      "C:\\Users\\Maik\\anaconda3\\lib\\site-packages\\pandas\\io\\sql.py:762: UserWarning: pandas only support SQLAlchemy connectable(engine/connection) ordatabase string URI or sqlite3 DBAPI2 connectionother DBAPI2 objects are not tested, please consider using SQLAlchemy\n",
      "  warnings.warn(\n",
      "C:\\Users\\Maik\\anaconda3\\lib\\site-packages\\pandas\\io\\sql.py:762: UserWarning: pandas only support SQLAlchemy connectable(engine/connection) ordatabase string URI or sqlite3 DBAPI2 connectionother DBAPI2 objects are not tested, please consider using SQLAlchemy\n",
      "  warnings.warn(\n",
      "C:\\Users\\Maik\\anaconda3\\lib\\site-packages\\pandas\\io\\sql.py:762: UserWarning: pandas only support SQLAlchemy connectable(engine/connection) ordatabase string URI or sqlite3 DBAPI2 connectionother DBAPI2 objects are not tested, please consider using SQLAlchemy\n",
      "  warnings.warn(\n",
      "C:\\Users\\Maik\\anaconda3\\lib\\site-packages\\pandas\\io\\sql.py:762: UserWarning: pandas only support SQLAlchemy connectable(engine/connection) ordatabase string URI or sqlite3 DBAPI2 connectionother DBAPI2 objects are not tested, please consider using SQLAlchemy\n",
      "  warnings.warn(\n",
      "C:\\Users\\Maik\\anaconda3\\lib\\site-packages\\pandas\\io\\sql.py:762: UserWarning: pandas only support SQLAlchemy connectable(engine/connection) ordatabase string URI or sqlite3 DBAPI2 connectionother DBAPI2 objects are not tested, please consider using SQLAlchemy\n",
      "  warnings.warn(\n",
      "C:\\Users\\Maik\\anaconda3\\lib\\site-packages\\pandas\\io\\sql.py:762: UserWarning: pandas only support SQLAlchemy connectable(engine/connection) ordatabase string URI or sqlite3 DBAPI2 connectionother DBAPI2 objects are not tested, please consider using SQLAlchemy\n",
      "  warnings.warn(\n",
      "C:\\Users\\Maik\\anaconda3\\lib\\site-packages\\pandas\\io\\sql.py:762: UserWarning: pandas only support SQLAlchemy connectable(engine/connection) ordatabase string URI or sqlite3 DBAPI2 connectionother DBAPI2 objects are not tested, please consider using SQLAlchemy\n",
      "  warnings.warn(\n",
      "C:\\Users\\Maik\\anaconda3\\lib\\site-packages\\pandas\\io\\sql.py:762: UserWarning: pandas only support SQLAlchemy connectable(engine/connection) ordatabase string URI or sqlite3 DBAPI2 connectionother DBAPI2 objects are not tested, please consider using SQLAlchemy\n",
      "  warnings.warn(\n",
      "C:\\Users\\Maik\\anaconda3\\lib\\site-packages\\pandas\\io\\sql.py:762: UserWarning: pandas only support SQLAlchemy connectable(engine/connection) ordatabase string URI or sqlite3 DBAPI2 connectionother DBAPI2 objects are not tested, please consider using SQLAlchemy\n",
      "  warnings.warn(\n"
     ]
    }
   ],
   "source": [
    "import pandas as pd \n",
    "import psycopg2\n",
    "from datetime import datetime \n",
    "import os \n",
    "\n",
    "# Função para criar diretórios se não existirem\n",
    "def create_diretory_if_not_exists(directory):\n",
    "    if not os.path.exists(directory):\n",
    "        os.makedirs(directory)\n",
    "\n",
    "# Diretórios base \n",
    "postgres_base_dir = \"/data/postgres/\"\n",
    "csv_base_dir = \"/data/csv/\"\n",
    "\n",
    "# Verificar e criar diretórios se necessário\n",
    "#create_diretory_if_not_exists(csv_base_dir)\n",
    "os.makedirs(f\"/data/csv/{date_today}/\", exist_ok=True)\n",
    "\n",
    "# Conexão com o banco de dados PostgreSQL\n",
    "conn = psycopg2.connect(\n",
    "    host='localhost',\n",
    "    dbname='northwind',\n",
    "    user='northwind_user',\n",
    "    password='thewindisblowing'\n",
    ")\n",
    "\n",
    "# Ler os dados do banco de dados PostgreSQL e salvar cada tabela individualmente\n",
    "tables = ['suppliers', 'employees', 'shippers', 'categories', 'employee_territories', 'region'\n",
    ", 'customer_demographics', 'us_states', 'products', 'territories', 'customer_customer_demo', 'customers'\n",
    ", 'orders']  \n",
    "date_today = datetime.today().strftime('%Y-%m-%d')\n",
    "\n",
    "for table in tables:\n",
    "    query = f\"SELECT * FROM {table}\"\n",
    "    df_pg = pd.read_sql(query, conn)\n",
    "\n",
    "    # Verifica se o diretorio de cada tabela existe\n",
    "    #path_table_dir = f\"{postgres_base_dir}{table}/\"\n",
    "    #create_diretory_if_not_exists(path_table_dir)\n",
    "    os.makedirs(f\"/data/postgres/{table}/{date_today}\", exist_ok=True)   \n",
    "    \n",
    "    # Escolhe formato de arquivo desejado, por exemplo, 'csv', 'xlsx', etc.\n",
    "    file_path = (f\"{postgres_base_dir}{table}/{date_today}/file.csv\")\n",
    "\n",
    "    # Salvar o dataframe como arquivo\n",
    "    df_pg.to_csv(file_path, index=False)  # Use outros métodos como to_excel() para outros formatos\n",
    "\n",
    "# Ler os dados do arquivo CSV\n",
    "df_csv = pd.read_csv('order_details.csv')\n",
    "\n",
    "# Salvar o dataframe CSV com a data atual\n",
    "csv_file_path = f\"/data/csv/{date_today}/file.csv\"\n",
    "df_csv.to_csv(csv_file_path, index=False)  # Use outros métodos como to_excel() para outros formatos"
   ]
  },
  {
   "cell_type": "markdown",
   "id": "87f595b2",
   "metadata": {},
   "source": [
    "# Etapa 2: Carregamento"
   ]
  },
  {
   "cell_type": "code",
   "execution_count": null,
   "id": "d0d10cab",
   "metadata": {},
   "outputs": [],
   "source": []
  }
 ],
 "metadata": {
  "kernelspec": {
   "display_name": "Python 3 (ipykernel)",
   "language": "python",
   "name": "python3"
  },
  "language_info": {
   "codemirror_mode": {
    "name": "ipython",
    "version": 3
   },
   "file_extension": ".py",
   "mimetype": "text/x-python",
   "name": "python",
   "nbconvert_exporter": "python",
   "pygments_lexer": "ipython3",
   "version": "3.9.13"
  }
 },
 "nbformat": 4,
 "nbformat_minor": 5
}
