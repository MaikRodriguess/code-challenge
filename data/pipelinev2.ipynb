{
 "cells": [
  {
   "cell_type": "code",
   "execution_count": null,
   "id": "1098fd38",
   "metadata": {},
   "outputs": [],
   "source": [
    "!pip install os"
   ]
  },
  {
   "cell_type": "markdown",
   "id": "68015ca1",
   "metadata": {},
   "source": [
    "# Etapa 1: Extração de dados\n"
   ]
  },
  {
   "cell_type": "code",
   "execution_count": null,
   "id": "5cc7df81",
   "metadata": {},
   "outputs": [],
   "source": [
    "import pandas as pd \n",
    "import psycopg2\n",
    "from datetime import datetime \n",
    "import os \n",
    "\n",
    "# Função para criar diretórios se não existirem\n",
    "def create_diretory_if_not_exists(directory):\n",
    "    if not os.path.exists(directory):\n",
    "        os.makedirs(directory)\n",
    "        print(f\"Criando diretorio: {directory}\")\n",
    "\n",
    "try:\n",
    "# Conexão com o banco de dados PostgreSQL\n",
    "    conn = psycopg2.connect(\n",
    "        host='localhost',\n",
    "        dbname='northwind',\n",
    "        user='northwind_user',\n",
    "        password='thewindisblowing'\n",
    "    )\n",
    "# Ler os dados do arquivo CSV\n",
    "    df_csv = pd.read_csv('order_details.csv')\n",
    "\n",
    "except psycopg2.Error as e:\n",
    "    print(f\"Não foi possível conectar ao banco de dados: {e}\")\n",
    "except FileNotFoundError as e:\n",
    "    print(f'Erro ao ler o arquivo CSV. Verifique se o arquivo está no local correto: {e}')    \n",
    "\n",
    "\n",
    "# Obter o diretório atual onde o código está sendo executado\n",
    "current_directory = os.getcwd()\n",
    "\n",
    "# Diretórios base de dados Postgres e CSV\n",
    "postgres_base_dir = os.path.join(current_directory, \"postgres\")\n",
    "csv_base_dir = os.path.join(current_directory, \"csv\")\n",
    "\n",
    "\n",
    "# Nomes das tabelas do banco de dados\n",
    "tables = ['suppliers', 'employees', 'shippers', 'categories', 'employee_territories', 'region'\n",
    ", 'customer_demographics', 'us_states', 'products', 'territories', 'customer_customer_demo', 'customers'\n",
    ", 'orders']  \n",
    "\n",
    "# Data atual\n",
    "date_today = datetime.today().strftime('%d-%m-%Y')\n",
    "\n",
    "# Ler os dados do banco de dados PostgreSQL e salvar cada tabela individualmente\n",
    "print('==Diretorios para cada tabela===')\n",
    "for table in tables:\n",
    "    query = f\"SELECT * FROM {table}\"\n",
    "    df_pg = pd.read_sql(query, conn)\n",
    "\n",
    "     # Escolhe formato de arquivo e local de salvamento\n",
    "    file_path = (f\"{postgres_base_dir}\\{table}\\{date_today}\\db_file_{date_today}.csv\")\n",
    "        \n",
    "    # Cria diretorios para cada tabela caso não exista\n",
    "    create_diretory_if_not_exists(f\"{postgres_base_dir}\\{table}\\{date_today}\") \n",
    "   \n",
    "    # Salvar o tabela como arquivo csv \n",
    "    df_pg.to_csv(file_path, index=False)  \n",
    "\n",
    "# Cria diretorios csv caso não exista\n",
    "create_diretory_if_not_exists(f\"{csv_base_dir}\\{date_today}\")\n",
    "\n",
    "\n",
    "# Salvar dados de fonte CSV em arquivo cvs com data\n",
    "csv_file_path = f\"{csv_base_dir}\\{date_today}/csv_file_{date_today}.csv\"\n",
    "df_csv.to_csv(csv_file_path, index=False)  \n"
   ]
  },
  {
   "cell_type": "code",
   "execution_count": null,
   "id": "7d2406a8",
   "metadata": {},
   "outputs": [],
   "source": []
  },
  {
   "cell_type": "code",
   "execution_count": null,
   "id": "e5bf7993",
   "metadata": {},
   "outputs": [],
   "source": []
  },
  {
   "cell_type": "markdown",
   "id": "87f595b2",
   "metadata": {},
   "source": [
    "# Etapa 2: Carregamento"
   ]
  },
  {
   "cell_type": "code",
   "execution_count": null,
   "id": "d0d10cab",
   "metadata": {},
   "outputs": [],
   "source": []
  }
 ],
 "metadata": {
  "kernelspec": {
   "display_name": "Python 3 (ipykernel)",
   "language": "python",
   "name": "python3"
  },
  "language_info": {
   "codemirror_mode": {
    "name": "ipython",
    "version": 3
   },
   "file_extension": ".py",
   "mimetype": "text/x-python",
   "name": "python",
   "nbconvert_exporter": "python",
   "pygments_lexer": "ipython3",
   "version": "3.9.13"
  }
 },
 "nbformat": 4,
 "nbformat_minor": 5
}
